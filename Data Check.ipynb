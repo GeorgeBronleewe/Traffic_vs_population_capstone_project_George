{
 "cells": [
  {
   "cell_type": "code",
   "execution_count": null,
   "id": "b7c2cc82-593b-423b-bf77-59da5ab532a6",
   "metadata": {},
   "outputs": [],
   "source": [
    "import pandas as pd\n",
    "import numpy as np\n",
    "import re\n",
    "import requests\n",
    "import geopandas as gpd\n",
    "import matplotlib.pyplot as plt\n",
    "import seaborn as sns\n",
    "import folium\n",
    "from pathlib import Path\n",
    "import nbformat\n",
    "import json\n",
    "import pathlib"
   ]
  },
  {
   "cell_type": "code",
   "execution_count": null,
   "id": "8a65fdca-ded1-41f2-9cd3-7b758298cd5d",
   "metadata": {},
   "outputs": [],
   "source": [
    "# Loads the three uploaded notebooks to inspect their content\n",
    "notebook_paths = [\n",
    "    \"/mnt/data/Capstone 3.ipynb\",\n",
    "    \"/mnt/data/Capstone1.ipynb\",\n",
    "    \"/mnt/data/Capstone2.ipynb\"\n",
    "]\n",
    "\n",
    "notebooks_content = {}\n",
    "\n",
    "for path in notebook_paths:\n",
    "    try:\n",
    "        with open(path, \"r\", encoding=\"utf-8\") as f:\n",
    "            nb = nbformat.read(f, as_version=4)\n",
    "            # Capture all markdown cell sources and first 1000 chars of code cells for review\n",
    "            cells_preview = []\n",
    "            for cell in nb.cells:\n",
    "                if cell.cell_type == \"markdown\":\n",
    "                    cells_preview.append((\"markdown\", cell.source))\n",
    "                elif cell.cell_type == \"code\":\n",
    "                    snippet = cell.source[:1000]  # only first 1000 characters\n",
    "                    cells_preview.append((\"code\", snippet))\n",
    "            notebooks_content[path] = cells_preview\n",
    "    except Exception as e:\n",
    "        notebooks_content[path] = str(e)\n",
    "\n",
    "notebooks_content.keys()"
   ]
  },
  {
   "cell_type": "code",
   "execution_count": null,
   "id": "0303dd4b-feaa-439c-b86a-02815d3980ac",
   "metadata": {},
   "outputs": [],
   "source": [
    "# downloads yearly totals from ArcGIS and writes a small CSV for Capstone3\n",
    "BASE = \"https://services2.arcgis.com/nf3p7v7Zy4fTOh6M/ArcGIS/rest/services/Traffic_Points/FeatureServer/0/query\"\n",
    "\n",
    "params = {\n",
    "    \"where\": \"COUNTY='DAVIDSON' AND AADT_YEAR BETWEEN 2013 AND 2023\",\n",
    "    \"outFields\": \"AADT_YEAR\",\n",
    "    \"groupByFieldsForStatistics\": \"AADT_YEAR\",\n",
    "    \"outStatistics\": json.dumps([{\n",
    "        \"statisticType\": \"sum\",\n",
    "        \"onStatisticField\": \"AADT\",\n",
    "        \"outStatisticFieldName\": \"aadt_total\"\n",
    "    }]),\n",
    "    \"orderByFields\": \"AADT_YEAR\",\n",
    "    \"returnGeometry\": \"false\",\n",
    "    \"f\": \"json\",\n",
    "}\n",
    "\n",
    "r = requests.get(BASE, params=params, timeout=60)\n",
    "r.raise_for_status()\n",
    "data = r.json()\n",
    "\n",
    "rows = [f[\"attributes\"] for f in data.get(\"features\", [])]\n",
    "df = pd.DataFrame(rows).rename(columns={\"AADT_YEAR\": \"year\"}).sort_values(\"year\")\n",
    "\n",
    "out = Path(\"outputs\"); out.mkdir(parents=True, exist_ok=True)\n",
    "csv_path = out / \"aadt_davidson_year_totals.csv\"\n",
    "df.to_csv(csv_path, index=False)\n",
    "print(\"saved:\", csv_path)\n",
    "df"
   ]
  },
  {
   "cell_type": "code",
   "execution_count": null,
   "id": "c0182286-03d5-4124-9c64-7b503707a8c1",
   "metadata": {},
   "outputs": [],
   "source": [
    "# downloads raw point rows with pagination; writes detailed points and year totals\n",
    "BASE = \"https://services2.arcgis.com/nf3p7v7Zy4fTOh6M/ArcGIS/rest/services/Traffic_Points/FeatureServer/0/query\"\n",
    "\n",
    "OUT_DIR = Path(\"data_raw/tdot_history\"); OUT_DIR.mkdir(parents=True, exist_ok=True)\n",
    "OUTS    = Path(\"outputs\");              OUTS.mkdir(parents=True, exist_ok=True)\n",
    "\n",
    "params = {\n",
    "    \"where\": \"COUNTY='DAVIDSON' AND AADT_YEAR BETWEEN 2013 AND 2023\",\n",
    "    \"outFields\": \"LOCAL_ID,COUNTY,AADT_YEAR,AADT\",\n",
    "    \"orderByFields\": \"OBJECTID\",\n",
    "    \"returnGeometry\": \"false\",\n",
    "    \"f\": \"json\",\n",
    "    \"resultRecordCount\": 2000,\n",
    "    \"resultOffset\": 0,\n",
    "}\n",
    "\n",
    "all_rows = []\n",
    "while True:\n",
    "    r = requests.get(BASE, params=params, timeout=60)\n",
    "    r.raise_for_status()\n",
    "    data = r.json()\n",
    "\n",
    "    feats = data.get(\"features\", [])\n",
    "    rows = [f.get(\"attributes\") or f.get(\"properties\") or {} for f in feats]\n",
    "    all_rows.extend(rows)\n",
    "    print(f\"fetched {len(rows)} rows at offset {params['resultOffset']}\")\n",
    "\n",
    "    if len(rows) < params[\"resultRecordCount\"]:\n",
    "        break\n",
    "    params[\"resultOffset\"] += params[\"resultRecordCount\"]\n",
    "\n",
    "points = pd.DataFrame(all_rows)\n",
    "if points.empty:\n",
    "    raise ValueError(\"no rows returned. check the where/outFields parameters.\")\n",
    "\n",
    "# guarantees expected columns and types\n",
    "if \"AADT_YEAR\" in points.columns and \"year\" not in points.columns:\n",
    "    points = points.rename(columns={\"AADT_YEAR\": \"year\"})\n",
    "\n",
    "if \"year\" not in points.columns:\n",
    "    raise ValueError(f\"'year' column missing. columns: {list(points.columns)[:20]}\")\n",
    "\n",
    "points[\"year\"] = pd.to_numeric(points[\"year\"], errors=\"coerce\")\n",
    "points[\"AADT\"] = pd.to_numeric(points[\"AADT\"], errors=\"coerce\")\n",
    "points = points.dropna(subset=[\"year\",\"AADT\"]).sort_values(\"year\")\n",
    "\n",
    "# writes detailed points and annual totals\n",
    "points_csv = OUT_DIR / \"tdot_aadt_points_davidson_2013_2023.csv\"\n",
    "points.to_csv(points_csv, index=False)\n",
    "print(\"saved points:\", points_csv, \"| rows:\", len(points))\n",
    "\n",
    "year_totals = (points.groupby(\"year\", as_index=False)[\"AADT\"]\n",
    "                      .sum()\n",
    "                      .rename(columns={\"AADT\": \"aadt_total\"})\n",
    "                      .sort_values(\"year\"))\n",
    "totals_csv = OUTS / \"aadt_davidson_year_totals.csv\"\n",
    "year_totals.to_csv(totals_csv, index=False)\n",
    "print(\"saved year totals:\", totals_csv)\n",
    "year_totals"
   ]
  },
  {
   "cell_type": "code",
   "execution_count": null,
   "id": "ec77ffd0-e686-46ce-b088-3676e8b568ec",
   "metadata": {},
   "outputs": [],
   "source": [
    "# verifies outputs and normalizes columns if needed\n",
    "OUTS = Path(\"outputs\")\n",
    "RAW  = Path(\"data_raw/tdot_history\")\n",
    "\n",
    "totals_csv = OUTS / \"aadt_davidson_year_totals.csv\"\n",
    "points_csv = RAW  / \"tdot_aadt_points_davidson_2013_2023.csv\"\n",
    "\n",
    "assert totals_csv.exists(), f\"Missing {totals_csv}. Re-run a downloader cell.\"\n",
    "\n",
    "df_tot = pd.read_csv(totals_csv)\n",
    "\n",
    "# normalizes column names if the service returned unexpected headers\n",
    "if \"AADT_YEAR\" in df_tot.columns and \"year\" not in df_tot.columns:\n",
    "    df_tot = df_tot.rename(columns={\"AADT_YEAR\": \"year\"})\n",
    "if \"aadt_total\" not in df_tot.columns and \"AADT\" in df_tot.columns:\n",
    "    df_tot = (df_tot.groupby(\"year\", as_index=False)[\"AADT\"]\n",
    "                     .sum()\n",
    "                     .rename(columns={\"AADT\": \"aadt_total\"}))\n",
    "\n",
    "# coerces types and sorts\n",
    "df_tot[\"year\"] = pd.to_numeric(df_tot[\"year\"], errors=\"coerce\")\n",
    "df_tot[\"aadt_total\"] = pd.to_numeric(df_tot[\"aadt_total\"], errors=\"coerce\")\n",
    "df_tot = (df_tot.dropna(subset=[\"year\",\"aadt_total\"])\n",
    "                .astype({\"year\": int})\n",
    "                .sort_values(\"year\")\n",
    "                .reset_index(drop=True))\n",
    "\n",
    "display(df_tot)\n",
    "\n",
    "# coverage check for ACS alignment\n",
    "need = list(range(2013, 2024))\n",
    "have = df_tot[\"year\"].tolist()\n",
    "print(\"Years present:\", have)\n",
    "print(\"Years missing (need 2013–2023):\", [y for y in need if y not in have])\n",
    "\n",
    "# writes back the normalized totals to ensure Capstone3 consumes the right schema\n",
    "df_tot.to_csv(totals_csv, index=False)\n",
    "print(\"Normalized + saved:\", totals_csv)"
   ]
  },
  {
   "cell_type": "code",
   "execution_count": null,
   "id": "a65afb55-2d0b-494c-9279-3e4d40e53c58",
   "metadata": {},
   "outputs": [],
   "source": []
  },
  {
   "cell_type": "code",
   "execution_count": null,
   "id": "2efcd495-b603-4ea5-9e00-6f06c0efccb2",
   "metadata": {},
   "outputs": [],
   "source": []
  },
  {
   "cell_type": "code",
   "execution_count": null,
   "id": "8c4acb82-4ca5-4f51-a584-cbee96450921",
   "metadata": {},
   "outputs": [],
   "source": []
  },
  {
   "cell_type": "code",
   "execution_count": null,
   "id": "29eed35d-53f4-4486-9caa-9849fbc904eb",
   "metadata": {},
   "outputs": [],
   "source": []
  },
  {
   "cell_type": "code",
   "execution_count": null,
   "id": "4686066a-c694-4d06-bf65-c705d48eb9fc",
   "metadata": {},
   "outputs": [],
   "source": []
  },
  {
   "cell_type": "code",
   "execution_count": null,
   "id": "d8d30b94-8442-4bdd-81f9-6966ba19bc4f",
   "metadata": {},
   "outputs": [],
   "source": []
  },
  {
   "cell_type": "code",
   "execution_count": null,
   "id": "d48e8771-2333-4012-b691-80d461f48dbd",
   "metadata": {},
   "outputs": [],
   "source": []
  },
  {
   "cell_type": "code",
   "execution_count": null,
   "id": "fd89f12b-27f5-4adc-9c9f-bdbb238125cb",
   "metadata": {},
   "outputs": [],
   "source": []
  },
  {
   "cell_type": "code",
   "execution_count": null,
   "id": "4a252a9f-aaab-4f40-bf79-d11288a0db12",
   "metadata": {},
   "outputs": [],
   "source": []
  },
  {
   "cell_type": "code",
   "execution_count": null,
   "id": "53378607-afdc-4575-a8fa-47d62368375b",
   "metadata": {},
   "outputs": [],
   "source": []
  },
  {
   "cell_type": "code",
   "execution_count": null,
   "id": "34d47019-7c34-4f97-ad46-c4d140b9902b",
   "metadata": {},
   "outputs": [],
   "source": []
  },
  {
   "cell_type": "code",
   "execution_count": null,
   "id": "a24a18fb-5d18-463d-9c9e-e5acec59bcb1",
   "metadata": {},
   "outputs": [],
   "source": []
  },
  {
   "cell_type": "code",
   "execution_count": null,
   "id": "306a5afc-6934-49fb-9acf-f33270e5dd81",
   "metadata": {},
   "outputs": [],
   "source": []
  },
  {
   "cell_type": "code",
   "execution_count": null,
   "id": "12eaa2ae-6e74-4c96-9ba3-63d5d1c13deb",
   "metadata": {},
   "outputs": [],
   "source": []
  },
  {
   "cell_type": "code",
   "execution_count": null,
   "id": "0a28a2a1-2891-447c-82d6-a1cdd8621c75",
   "metadata": {},
   "outputs": [],
   "source": []
  },
  {
   "cell_type": "code",
   "execution_count": null,
   "id": "b4d9b073-f43a-4e4a-bfde-e97ef4ad4c7d",
   "metadata": {},
   "outputs": [],
   "source": []
  },
  {
   "cell_type": "code",
   "execution_count": null,
   "id": "2500910c-c430-44be-b9d7-ec2b6cd8593e",
   "metadata": {},
   "outputs": [],
   "source": []
  },
  {
   "cell_type": "code",
   "execution_count": null,
   "id": "5b20e206-8d53-4f6b-b8f0-5c0f703a344d",
   "metadata": {},
   "outputs": [],
   "source": []
  },
  {
   "cell_type": "code",
   "execution_count": null,
   "id": "f2b70d23-d937-4e3c-b422-305db38dacd6",
   "metadata": {},
   "outputs": [],
   "source": []
  },
  {
   "cell_type": "code",
   "execution_count": null,
   "id": "2ae0b4c3-e734-449d-8ad6-9d1485a6b69a",
   "metadata": {},
   "outputs": [],
   "source": []
  },
  {
   "cell_type": "code",
   "execution_count": null,
   "id": "c433921e-707b-472c-b15a-25f1c473c78c",
   "metadata": {},
   "outputs": [],
   "source": []
  },
  {
   "cell_type": "code",
   "execution_count": null,
   "id": "638c81f1-3f8f-428e-88ee-df2410631ca4",
   "metadata": {},
   "outputs": [],
   "source": []
  },
  {
   "cell_type": "code",
   "execution_count": null,
   "id": "8f3eb118-ef37-4ee0-9081-e5c1c0c77a68",
   "metadata": {},
   "outputs": [],
   "source": []
  },
  {
   "cell_type": "code",
   "execution_count": null,
   "id": "333e7872-91fc-4ebe-bd3c-f1173a52de70",
   "metadata": {},
   "outputs": [],
   "source": []
  },
  {
   "cell_type": "code",
   "execution_count": null,
   "id": "4308216e-6f54-4f4e-b7f1-668a931b641a",
   "metadata": {},
   "outputs": [],
   "source": []
  },
  {
   "cell_type": "code",
   "execution_count": null,
   "id": "7da6472d-9a9b-4f4b-b49d-e7e8799c8016",
   "metadata": {},
   "outputs": [],
   "source": []
  },
  {
   "cell_type": "code",
   "execution_count": null,
   "id": "772b2c50-8e94-40ca-adcf-4287104d907f",
   "metadata": {},
   "outputs": [],
   "source": []
  },
  {
   "cell_type": "code",
   "execution_count": null,
   "id": "91507f17-9bdc-4b18-b70b-c06e135aa093",
   "metadata": {},
   "outputs": [],
   "source": []
  },
  {
   "cell_type": "code",
   "execution_count": null,
   "id": "0efe64fd-9fe6-4532-88b1-77709641df3e",
   "metadata": {},
   "outputs": [],
   "source": []
  },
  {
   "cell_type": "code",
   "execution_count": null,
   "id": "00009665-090d-495c-acd6-360cfca8d503",
   "metadata": {},
   "outputs": [],
   "source": []
  },
  {
   "cell_type": "code",
   "execution_count": null,
   "id": "5d4fe826-9f11-498d-bb98-9b1da81d3d9d",
   "metadata": {},
   "outputs": [],
   "source": []
  },
  {
   "cell_type": "code",
   "execution_count": null,
   "id": "d7e79eed-b662-41e5-a3b6-ac0a6503a091",
   "metadata": {},
   "outputs": [],
   "source": []
  },
  {
   "cell_type": "code",
   "execution_count": null,
   "id": "0ffdf734-f728-4949-9663-a7776a37fbc0",
   "metadata": {},
   "outputs": [],
   "source": []
  },
  {
   "cell_type": "code",
   "execution_count": null,
   "id": "20cee13a-bc1a-4351-a948-b624515483a6",
   "metadata": {},
   "outputs": [],
   "source": []
  },
  {
   "cell_type": "code",
   "execution_count": null,
   "id": "444146b0-afe1-4277-8685-e3f47b4963b6",
   "metadata": {},
   "outputs": [],
   "source": []
  },
  {
   "cell_type": "code",
   "execution_count": null,
   "id": "eede46fb-ecd2-47ec-989a-e672f56f56ae",
   "metadata": {},
   "outputs": [],
   "source": []
  },
  {
   "cell_type": "code",
   "execution_count": null,
   "id": "60ceebe5-fef5-4f76-8c7e-02b0ff63b7b4",
   "metadata": {},
   "outputs": [],
   "source": []
  },
  {
   "cell_type": "code",
   "execution_count": null,
   "id": "038f6f99-5d81-430c-9b11-b87bc048d2e1",
   "metadata": {},
   "outputs": [],
   "source": []
  },
  {
   "cell_type": "code",
   "execution_count": null,
   "id": "f940fdb9-3fff-4081-89d2-91a2743fcb9c",
   "metadata": {},
   "outputs": [],
   "source": []
  },
  {
   "cell_type": "code",
   "execution_count": null,
   "id": "e894f9c2-d1d1-4188-b9a5-888304684aa9",
   "metadata": {},
   "outputs": [],
   "source": []
  },
  {
   "cell_type": "code",
   "execution_count": null,
   "id": "5c3c1849-5c2e-43a3-a290-9fa19cdf6901",
   "metadata": {},
   "outputs": [],
   "source": []
  },
  {
   "cell_type": "code",
   "execution_count": null,
   "id": "0d357e91-db30-4cf7-9ce8-fecc17c76561",
   "metadata": {},
   "outputs": [],
   "source": []
  },
  {
   "cell_type": "code",
   "execution_count": null,
   "id": "7c519861-3905-491b-b3c3-e11a1ebb7a8e",
   "metadata": {},
   "outputs": [],
   "source": []
  },
  {
   "cell_type": "code",
   "execution_count": null,
   "id": "697e741f-4ce6-495d-8008-b1ffa0d8ef8b",
   "metadata": {},
   "outputs": [],
   "source": []
  },
  {
   "cell_type": "code",
   "execution_count": null,
   "id": "d6c8eb29-e561-41d5-bd91-c604fa5786eb",
   "metadata": {},
   "outputs": [],
   "source": []
  },
  {
   "cell_type": "code",
   "execution_count": null,
   "id": "b3d08c61-521c-41e7-8512-2bfd41e93e5c",
   "metadata": {},
   "outputs": [],
   "source": []
  }
 ],
 "metadata": {
  "kernelspec": {
   "display_name": "Python 3 (ipykernel)",
   "language": "python",
   "name": "python3"
  },
  "language_info": {
   "codemirror_mode": {
    "name": "ipython",
    "version": 3
   },
   "file_extension": ".py",
   "mimetype": "text/x-python",
   "name": "python",
   "nbconvert_exporter": "python",
   "pygments_lexer": "ipython3",
   "version": "3.12.7"
  }
 },
 "nbformat": 4,
 "nbformat_minor": 5
}
