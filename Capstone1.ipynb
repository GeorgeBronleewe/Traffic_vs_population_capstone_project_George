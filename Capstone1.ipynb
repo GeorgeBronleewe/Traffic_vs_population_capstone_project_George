{
 "cells": [
  {
   "cell_type": "code",
   "execution_count": 1,
   "id": "2bf39668-8e80-4832-9cd7-196506a81791",
   "metadata": {},
   "outputs": [],
   "source": [
    "import re\n",
    "from pathlib import Path\n",
    "import pandas as pd\n",
    "\n",
    "try:\n",
    "    import geopandas as gpd\n",
    "    HAS_GPD = True\n",
    "except Exception:\n",
    "    HAS_GPD = False"
   ]
  },
  {
   "cell_type": "code",
   "execution_count": 2,
   "id": "63150b39-70db-4f37-9375-0cb0990a1061",
   "metadata": {},
   "outputs": [],
   "source": [
    "CSV_PATH = r\"Traffic_Lines_-5158403106151148634.csv\"                 # e.g., \"data/TDOT_AADT_Davidson.csv\"\n",
    "GEO_PATH = r\"Traffic_Lines_-8205076846245197459.geojson\"    # e.g., \"data/TDOT_Traffic_Lines.geojson\"\n",
    "CSV_ID_COL = \"STATION_ID\"                       # ID column in CSV (change if needed)\n",
    "GEO_ID_COL = \"STATION_ID\"                       # ID column in GeoJSON (change if needed)\n",
    "OUT_BASENAME = r\"aadt_davidson\" # without extension; files will be added"
   ]
  },
  {
   "cell_type": "code",
   "execution_count": 3,
   "id": "55900a6a-8295-4fb4-baaa-a1d21f953cb9",
   "metadata": {},
   "outputs": [],
   "source": [
    "CANDIDATE_ID_COLS = [\n",
    "    \"STATION\",\"STATION_ID\",\"STATIONID\",\"COUNT_STATION\",\"COUNT_STATION_ID\",\n",
    "    \"LOC_ID\",\"LOCATION_ID\",\"SITE_NO\",\"SITENO\",\"POINT_ID\",\"POINTID\",\n",
    "    \"SEGMENT_ID\",\"SEGMENTID\",\"GISID\",\"GIS_ID\",\"ID\"\n",
    "]"
   ]
  },
  {
   "cell_type": "code",
   "execution_count": 4,
   "id": "c7c6d4cb-5c98-4f75-8f30-38a734adb93e",
   "metadata": {},
   "outputs": [],
   "source": [
    "def _norm_id(s: pd.Series) -> pd.Series:\n",
    "    s = s.astype(str).str.strip()\n",
    "    s = s.str.replace(r\"\\s+\", \"\", regex=True)\n",
    "    s = s.str.upper()\n",
    "    s = s.str.replace(r\"^STATION[_\\-]?\", \"\", regex=True)  # optional\n",
    "    return s"
   ]
  },
  {
   "cell_type": "code",
   "execution_count": 5,
   "id": "cd0ed09b-7939-4799-bd91-26d3fad5336c",
   "metadata": {},
   "outputs": [],
   "source": [
    "YEAR_COL_RE = re.compile(r\"^(?:AADT[_\\-\\s]*)?(19|20)\\d{2}$\")"
   ]
  },
  {
   "cell_type": "code",
   "execution_count": 6,
   "id": "aa45d781-4ee3-4d02-97f0-4c9889f4ed4d",
   "metadata": {},
   "outputs": [],
   "source": [
    "def _detect_year_cols(df: pd.DataFrame):\n",
    "    yc = [c for c in df.columns if YEAR_COL_RE.match(str(c).strip())]\n",
    "    if not yc:\n",
    "        yc = [c for c in df.columns if re.fullmatch(r\"(19|20)\\d{2}\", str(c).strip())]\n",
    "    return yc"
   ]
  },
  {
   "cell_type": "code",
   "execution_count": 7,
   "id": "5359e367-31f7-4180-854d-c4580e762abf",
   "metadata": {},
   "outputs": [],
   "source": [
    "\n",
    "def _year_from(colname: str) -> int:\n",
    "    m = re.search(r\"(19|20)\\d{2}\", str(colname))\n",
    "    if not m:\n",
    "        raise ValueError(f\"Could not parse year from column: {colname}\")\n",
    "    return int(m.group(0))"
   ]
  },
  {
   "cell_type": "code",
   "execution_count": 8,
   "id": "22da2f7d-b3fa-41bf-8846-7e774153fb07",
   "metadata": {},
   "outputs": [],
   "source": [
    "def _tidy_from_wide(df: pd.DataFrame, id_col: str, keep_cols=None) -> pd.DataFrame:\n",
    "    keep_cols = keep_cols or []\n",
    "    year_cols = _detect_year_cols(df)\n",
    "    if not year_cols:\n",
    "        # assume already tall with 'year' and some aadt column\n",
    "        year_col = \"year\" if \"year\" in df.columns else \"Year\" if \"Year\" in df.columns else None\n",
    "        aadt_col = None\n",
    "        for cand in [\"AADT\",\"aadt\",\"AADT_TOTAL\",\"TOTAL_AADT\",\"value\"]:\n",
    "            if cand in df.columns:\n",
    "                aadt_col = cand\n",
    "                break\n",
    "        if not (year_col and aadt_col):\n",
    "            raise ValueError(\"Could not detect year/aadt columns in tall format.\")\n",
    "        out = df[[id_col, year_col, aadt_col] + [c for c in keep_cols if c in df.columns]].copy()\n",
    "        out = out.rename(columns={year_col: \"year\", aadt_col: \"aadt\"})\n",
    "        out[\"year\"] = pd.to_numeric(out[\"year\"], errors=\"coerce\").astype(\"Int64\")\n",
    "        out[\"aadt\"] = pd.to_numeric(out[\"aadt\"], errors=\"coerce\")\n",
    "        return out\n",
    "\n",
    "    long_df = df.melt(\n",
    "        id_vars=[c for c in df.columns if c not in year_cols],\n",
    "        value_vars=year_cols,\n",
    "        var_name=\"year_raw\",\n",
    "        value_name=\"aadt\"\n",
    "    )\n",
    "    long_df[\"year\"] = long_df[\"year_raw\"].apply(_year_from)\n",
    "    long_df = long_df.drop(columns=[\"year_raw\"])\n",
    "    keep = [id_col, \"year\", \"aadt\"] + [c for c in keep_cols if c in long_df.columns]\n",
    "    long_df = long_df[keep].copy()\n",
    "    long_df[\"aadt\"] = pd.to_numeric(long_df[\"aadt\"], errors=\"coerce\")\n",
    "    return long_df"
   ]
  },
  {
   "cell_type": "code",
   "execution_count": 9,
   "id": "d395499f-94ae-45de-b069-151b9c0fff38",
   "metadata": {},
   "outputs": [],
   "source": [
    "def _auto_id(cols):\n",
    "    low = {c.lower(): c for c in cols}\n",
    "    for cand in CANDIDATE_ID_COLS:\n",
    "        if cand.lower() in low:\n",
    "            return low[cand.lower()]\n",
    "    return None"
   ]
  },
  {
   "cell_type": "code",
   "execution_count": 10,
   "id": "418ac179-7e37-4b5f-8ae9-e3ea7447261e",
   "metadata": {},
   "outputs": [],
   "source": [
    "csv_path = Path(CSV_PATH)\n",
    "geo_path = Path(GEO_PATH)\n",
    "out_base = Path(OUT_BASENAME)\n",
    "\n",
    "df = pd.read_csv(csv_path)"
   ]
  },
  {
   "cell_type": "code",
   "execution_count": 11,
   "id": "f42317f2-8081-43f8-a9c6-caa2310bfaa3",
   "metadata": {},
   "outputs": [],
   "source": [
    "csv_id = CSV_ID_COL or _auto_id(df.columns)\n",
    "if not csv_id:\n",
    "    raise ValueError(\"Could not auto-detect an ID column in the CSV. Set CSV_ID_COL.\")"
   ]
  },
  {
   "cell_type": "code",
   "execution_count": 12,
   "id": "2333e762-73de-4883-a0ec-dad60333730f",
   "metadata": {},
   "outputs": [
    {
     "ename": "KeyError",
     "evalue": "'STATION_ID'",
     "output_type": "error",
     "traceback": [
      "\u001b[1;31m---------------------------------------------------------------------------\u001b[0m",
      "\u001b[1;31mKeyError\u001b[0m                                  Traceback (most recent call last)",
      "File \u001b[1;32m~\\anaconda3\\Lib\\site-packages\\pandas\\core\\indexes\\base.py:3805\u001b[0m, in \u001b[0;36mIndex.get_loc\u001b[1;34m(self, key)\u001b[0m\n\u001b[0;32m   3804\u001b[0m \u001b[38;5;28;01mtry\u001b[39;00m:\n\u001b[1;32m-> 3805\u001b[0m     \u001b[38;5;28;01mreturn\u001b[39;00m \u001b[38;5;28mself\u001b[39m\u001b[38;5;241m.\u001b[39m_engine\u001b[38;5;241m.\u001b[39mget_loc(casted_key)\n\u001b[0;32m   3806\u001b[0m \u001b[38;5;28;01mexcept\u001b[39;00m \u001b[38;5;167;01mKeyError\u001b[39;00m \u001b[38;5;28;01mas\u001b[39;00m err:\n",
      "File \u001b[1;32mindex.pyx:167\u001b[0m, in \u001b[0;36mpandas._libs.index.IndexEngine.get_loc\u001b[1;34m()\u001b[0m\n",
      "File \u001b[1;32mindex.pyx:196\u001b[0m, in \u001b[0;36mpandas._libs.index.IndexEngine.get_loc\u001b[1;34m()\u001b[0m\n",
      "File \u001b[1;32mpandas\\\\_libs\\\\hashtable_class_helper.pxi:7081\u001b[0m, in \u001b[0;36mpandas._libs.hashtable.PyObjectHashTable.get_item\u001b[1;34m()\u001b[0m\n",
      "File \u001b[1;32mpandas\\\\_libs\\\\hashtable_class_helper.pxi:7089\u001b[0m, in \u001b[0;36mpandas._libs.hashtable.PyObjectHashTable.get_item\u001b[1;34m()\u001b[0m\n",
      "\u001b[1;31mKeyError\u001b[0m: 'STATION_ID'",
      "\nThe above exception was the direct cause of the following exception:\n",
      "\u001b[1;31mKeyError\u001b[0m                                  Traceback (most recent call last)",
      "Cell \u001b[1;32mIn[12], line 1\u001b[0m\n\u001b[1;32m----> 1\u001b[0m df[csv_id] \u001b[38;5;241m=\u001b[39m _norm_id(df[csv_id])\n\u001b[0;32m      3\u001b[0m keep_cols \u001b[38;5;241m=\u001b[39m [c \u001b[38;5;28;01mfor\u001b[39;00m c \u001b[38;5;129;01min\u001b[39;00m [\u001b[38;5;124m\"\u001b[39m\u001b[38;5;124mROUTE\u001b[39m\u001b[38;5;124m\"\u001b[39m,\u001b[38;5;124m\"\u001b[39m\u001b[38;5;124mROAD_NAME\u001b[39m\u001b[38;5;124m\"\u001b[39m,\u001b[38;5;124m\"\u001b[39m\u001b[38;5;124mROUTE_NAME\u001b[39m\u001b[38;5;124m\"\u001b[39m,\u001b[38;5;124m\"\u001b[39m\u001b[38;5;124mROADWAY\u001b[39m\u001b[38;5;124m\"\u001b[39m,\u001b[38;5;124m\"\u001b[39m\u001b[38;5;124mDIR\u001b[39m\u001b[38;5;124m\"\u001b[39m,\u001b[38;5;124m\"\u001b[39m\u001b[38;5;124mDIRECTION\u001b[39m\u001b[38;5;124m\"\u001b[39m] \u001b[38;5;28;01mif\u001b[39;00m c \u001b[38;5;129;01min\u001b[39;00m df\u001b[38;5;241m.\u001b[39mcolumns]\n\u001b[0;32m      4\u001b[0m tidy \u001b[38;5;241m=\u001b[39m _tidy_from_wide(df, id_col\u001b[38;5;241m=\u001b[39mcsv_id, keep_cols\u001b[38;5;241m=\u001b[39mkeep_cols)\u001b[38;5;241m.\u001b[39mrename(columns\u001b[38;5;241m=\u001b[39m{csv_id: \u001b[38;5;124m\"\u001b[39m\u001b[38;5;124mstation_id\u001b[39m\u001b[38;5;124m\"\u001b[39m})\n",
      "File \u001b[1;32m~\\anaconda3\\Lib\\site-packages\\pandas\\core\\frame.py:4102\u001b[0m, in \u001b[0;36mDataFrame.__getitem__\u001b[1;34m(self, key)\u001b[0m\n\u001b[0;32m   4100\u001b[0m \u001b[38;5;28;01mif\u001b[39;00m \u001b[38;5;28mself\u001b[39m\u001b[38;5;241m.\u001b[39mcolumns\u001b[38;5;241m.\u001b[39mnlevels \u001b[38;5;241m>\u001b[39m \u001b[38;5;241m1\u001b[39m:\n\u001b[0;32m   4101\u001b[0m     \u001b[38;5;28;01mreturn\u001b[39;00m \u001b[38;5;28mself\u001b[39m\u001b[38;5;241m.\u001b[39m_getitem_multilevel(key)\n\u001b[1;32m-> 4102\u001b[0m indexer \u001b[38;5;241m=\u001b[39m \u001b[38;5;28mself\u001b[39m\u001b[38;5;241m.\u001b[39mcolumns\u001b[38;5;241m.\u001b[39mget_loc(key)\n\u001b[0;32m   4103\u001b[0m \u001b[38;5;28;01mif\u001b[39;00m is_integer(indexer):\n\u001b[0;32m   4104\u001b[0m     indexer \u001b[38;5;241m=\u001b[39m [indexer]\n",
      "File \u001b[1;32m~\\anaconda3\\Lib\\site-packages\\pandas\\core\\indexes\\base.py:3812\u001b[0m, in \u001b[0;36mIndex.get_loc\u001b[1;34m(self, key)\u001b[0m\n\u001b[0;32m   3807\u001b[0m     \u001b[38;5;28;01mif\u001b[39;00m \u001b[38;5;28misinstance\u001b[39m(casted_key, \u001b[38;5;28mslice\u001b[39m) \u001b[38;5;129;01mor\u001b[39;00m (\n\u001b[0;32m   3808\u001b[0m         \u001b[38;5;28misinstance\u001b[39m(casted_key, abc\u001b[38;5;241m.\u001b[39mIterable)\n\u001b[0;32m   3809\u001b[0m         \u001b[38;5;129;01mand\u001b[39;00m \u001b[38;5;28many\u001b[39m(\u001b[38;5;28misinstance\u001b[39m(x, \u001b[38;5;28mslice\u001b[39m) \u001b[38;5;28;01mfor\u001b[39;00m x \u001b[38;5;129;01min\u001b[39;00m casted_key)\n\u001b[0;32m   3810\u001b[0m     ):\n\u001b[0;32m   3811\u001b[0m         \u001b[38;5;28;01mraise\u001b[39;00m InvalidIndexError(key)\n\u001b[1;32m-> 3812\u001b[0m     \u001b[38;5;28;01mraise\u001b[39;00m \u001b[38;5;167;01mKeyError\u001b[39;00m(key) \u001b[38;5;28;01mfrom\u001b[39;00m \u001b[38;5;21;01merr\u001b[39;00m\n\u001b[0;32m   3813\u001b[0m \u001b[38;5;28;01mexcept\u001b[39;00m \u001b[38;5;167;01mTypeError\u001b[39;00m:\n\u001b[0;32m   3814\u001b[0m     \u001b[38;5;66;03m# If we have a listlike key, _check_indexing_error will raise\u001b[39;00m\n\u001b[0;32m   3815\u001b[0m     \u001b[38;5;66;03m#  InvalidIndexError. Otherwise we fall through and re-raise\u001b[39;00m\n\u001b[0;32m   3816\u001b[0m     \u001b[38;5;66;03m#  the TypeError.\u001b[39;00m\n\u001b[0;32m   3817\u001b[0m     \u001b[38;5;28mself\u001b[39m\u001b[38;5;241m.\u001b[39m_check_indexing_error(key)\n",
      "\u001b[1;31mKeyError\u001b[0m: 'STATION_ID'"
     ]
    }
   ],
   "source": [
    "df[csv_id] = _norm_id(df[csv_id])\n",
    "\n",
    "keep_cols = [c for c in [\"ROUTE\",\"ROAD_NAME\",\"ROUTE_NAME\",\"ROADWAY\",\"DIR\",\"DIRECTION\"] if c in df.columns]\n",
    "tidy = _tidy_from_wide(df, id_col=csv_id, keep_cols=keep_cols).rename(columns={csv_id: \"station_id\"})\n",
    "tidy = tidy[tidy[\"aadt\"].notna()].copy()"
   ]
  },
  {
   "cell_type": "code",
   "execution_count": null,
   "id": "37937746-98f5-4833-a0eb-257bfe216de6",
   "metadata": {},
   "outputs": [],
   "source": [
    "out_csv = out_base.with_suffix(\".clean.csv\")\n",
    "out_csv.parent.mkdir(parents=True, exist_ok=True)\n",
    "tidy.to_csv(out_csv, index=False)"
   ]
  },
  {
   "cell_type": "code",
   "execution_count": null,
   "id": "74533b35-c95c-420e-89ee-54c996dc45c5",
   "metadata": {},
   "outputs": [],
   "source": [
    "merged = None\n",
    "if HAS_GPD:\n",
    "    gdf = gpd.read_file(geo_path)\n",
    "    geo_id = GEO_ID_COL or _auto_id(gdf.columns)\n",
    "    if not geo_id:\n",
    "        raise ValueError(\"Could not auto-detect an ID column in the GeoJSON. Set GEO_ID_COL.\")\n",
    "    gdf[geo_id] = _norm_id(gdf[geo_id])\n",
    "    gdf = gdf.rename(columns={geo_id: \"station_id\"})\n",
    "    if gdf.crs is None:\n",
    "        gdf = gdf.set_crs(epsg=4326)\n",
    "    else:\n",
    "        gdf = gdf.to_crs(epsg=4326)\n",
    "    gdf = gdf.drop_duplicates(subset=[\"station_id\"])\n",
    "    merged = gdf.merge(tidy, on=\"station_id\", how=\"inner\")\n"
   ]
  },
  {
   "cell_type": "code",
   "execution_count": null,
   "id": "f54b5730-b693-4e9e-8494-17237652fc0c",
   "metadata": {},
   "outputs": [],
   "source": [
    "out_gpkg = out_base.with_suffix(\".gpkg\")\n",
    "    out_geojson = out_base.with_suffix(\".geojson\")\n",
    "    try:\n",
    "        merged.to_file(out_gpkg, layer=\"aadt\", driver=\"GPKG\")\n",
    "    except Exception as e:\n",
    "        print(\"Warning: could not write GeoPackage:\", e)\n",
    "    try:\n",
    "        merged.to_file(out_geojson, driver=\"GeoJSON\")\n",
    "    except Exception as e:\n",
    "        print(\"Warning: could not write GeoJSON:\", e)"
   ]
  },
  {
   "cell_type": "code",
   "execution_count": null,
   "id": "49e18387-070c-4381-a584-fafdb098b851",
   "metadata": {},
   "outputs": [],
   "source": [
    "  summary = (\n",
    "        merged[[\"station_id\", \"year\", \"aadt\"]]\n",
    "        .groupby([\"station_id\", \"year\"], as_index=False)\n",
    "        .agg(aadt=(\"aadt\", \"mean\"))\n",
    "        .sort_values([\"station_id\", \"year\"])\n",
    "    )\n",
    "    out_summary_csv = out_base.with_suffix(\".station_year.csv\")\n",
    "    summary.to_csv(out_summary_csv, index=False)"
   ]
  },
  {
   "cell_type": "code",
   "execution_count": null,
   "id": "e575a09c-0225-4a71-856e-0dfaa1411434",
   "metadata": {},
   "outputs": [],
   "source": [
    "# --- quick sanity output ---\n",
    "print(\"Saved:\", out_csv)\n",
    "if merged is not None:\n",
    "    print(\"Merged rows:\", len(merged))\n",
    "    display(merged.head(3).drop(columns=\"geometry\"))\n",
    "else:\n",
    "    print(\"Note: geopandas not installed or Geo step skipped. Install with `pip install geopandas` if you want the map-merge outputs.\")"
   ]
  },
  {
   "cell_type": "code",
   "execution_count": null,
   "id": "0b3134da-dc30-4853-8502-971f6bfa54f9",
   "metadata": {},
   "outputs": [],
   "source": []
  },
  {
   "cell_type": "code",
   "execution_count": null,
   "id": "c453b0c4-5abb-48c9-90ea-4eed5116df04",
   "metadata": {},
   "outputs": [],
   "source": []
  },
  {
   "cell_type": "code",
   "execution_count": null,
   "id": "69e9b3c8-0efa-4c3d-b2e8-6fb82348d3b0",
   "metadata": {},
   "outputs": [],
   "source": []
  },
  {
   "cell_type": "code",
   "execution_count": null,
   "id": "21e0b68c-2d02-4b98-a983-29432633a38e",
   "metadata": {},
   "outputs": [],
   "source": []
  },
  {
   "cell_type": "code",
   "execution_count": null,
   "id": "4e2169f0-cb48-44e0-bf76-a1dbf25eb1de",
   "metadata": {},
   "outputs": [],
   "source": []
  },
  {
   "cell_type": "code",
   "execution_count": null,
   "id": "335785b3-81e0-4ddf-9056-dc6eefbd5f98",
   "metadata": {},
   "outputs": [],
   "source": []
  },
  {
   "cell_type": "code",
   "execution_count": null,
   "id": "e12efe09-d86e-4c35-a3e6-6c92b324263c",
   "metadata": {},
   "outputs": [],
   "source": []
  },
  {
   "cell_type": "code",
   "execution_count": null,
   "id": "1c47c51d-25c5-4b4b-b668-f440ae982127",
   "metadata": {},
   "outputs": [],
   "source": []
  },
  {
   "cell_type": "code",
   "execution_count": null,
   "id": "defea9a2-012e-4ca1-90cf-2826816ed38b",
   "metadata": {},
   "outputs": [],
   "source": []
  },
  {
   "cell_type": "code",
   "execution_count": null,
   "id": "7e2e16df-17a1-4baa-aab6-f708ef3e8fae",
   "metadata": {},
   "outputs": [],
   "source": []
  },
  {
   "cell_type": "code",
   "execution_count": null,
   "id": "9ed0cd13-9c53-4b35-88f9-beb05f775b75",
   "metadata": {},
   "outputs": [],
   "source": []
  },
  {
   "cell_type": "code",
   "execution_count": null,
   "id": "8192f496-361c-4d3e-8464-c8fe40da3d56",
   "metadata": {},
   "outputs": [],
   "source": []
  },
  {
   "cell_type": "code",
   "execution_count": null,
   "id": "8a7f3469-8717-4dde-80df-9df34c6b5d2f",
   "metadata": {},
   "outputs": [],
   "source": []
  },
  {
   "cell_type": "code",
   "execution_count": null,
   "id": "1cd57151-7a9f-473d-8036-64f5312895fc",
   "metadata": {},
   "outputs": [],
   "source": []
  },
  {
   "cell_type": "code",
   "execution_count": null,
   "id": "d0394cf1-1039-4cef-93ff-e848bd17f745",
   "metadata": {},
   "outputs": [],
   "source": []
  },
  {
   "cell_type": "code",
   "execution_count": null,
   "id": "296dcfbb-e725-4214-a50d-0f98eccf8db1",
   "metadata": {},
   "outputs": [],
   "source": []
  },
  {
   "cell_type": "code",
   "execution_count": null,
   "id": "974f3f83-2e83-463d-b672-c0120d361d9e",
   "metadata": {},
   "outputs": [],
   "source": []
  },
  {
   "cell_type": "code",
   "execution_count": null,
   "id": "a8aefe7f-631f-482c-88d5-b953eee12b20",
   "metadata": {},
   "outputs": [],
   "source": []
  },
  {
   "cell_type": "code",
   "execution_count": null,
   "id": "913e7381-ed9d-4bd8-a5e0-0d2b3ee4dd81",
   "metadata": {},
   "outputs": [],
   "source": []
  },
  {
   "cell_type": "code",
   "execution_count": null,
   "id": "6b840d32-2f98-4acf-ab07-93705ae9fc16",
   "metadata": {},
   "outputs": [],
   "source": []
  },
  {
   "cell_type": "code",
   "execution_count": null,
   "id": "f7c47bf1-9758-4e27-af6d-a014a686a731",
   "metadata": {},
   "outputs": [],
   "source": []
  },
  {
   "cell_type": "code",
   "execution_count": null,
   "id": "3deb73e4-3932-4d5f-8e03-1861828758c5",
   "metadata": {},
   "outputs": [],
   "source": []
  },
  {
   "cell_type": "code",
   "execution_count": null,
   "id": "3f56c87b-ea34-42bb-b4ed-88de9af2fbcc",
   "metadata": {},
   "outputs": [],
   "source": []
  },
  {
   "cell_type": "code",
   "execution_count": null,
   "id": "6270658f-ba63-42dd-9378-a733ed63b40c",
   "metadata": {},
   "outputs": [],
   "source": []
  },
  {
   "cell_type": "code",
   "execution_count": null,
   "id": "2ddf7c27-dad4-4ff1-9f77-78ad7c8be82a",
   "metadata": {},
   "outputs": [],
   "source": []
  },
  {
   "cell_type": "code",
   "execution_count": null,
   "id": "fc3a977e-4484-4337-a853-829b360a2b1b",
   "metadata": {},
   "outputs": [],
   "source": []
  },
  {
   "cell_type": "code",
   "execution_count": null,
   "id": "4ae28210-fb3c-4aa5-98c9-9e4370b825f9",
   "metadata": {},
   "outputs": [],
   "source": []
  },
  {
   "cell_type": "code",
   "execution_count": null,
   "id": "427dec11-9174-444e-bd4b-6aa19f35c02c",
   "metadata": {},
   "outputs": [],
   "source": []
  },
  {
   "cell_type": "code",
   "execution_count": null,
   "id": "03937f8e-94cd-4697-8dc5-084bc578112c",
   "metadata": {},
   "outputs": [],
   "source": []
  },
  {
   "cell_type": "code",
   "execution_count": null,
   "id": "926b8abb-7003-4fe9-9998-d6394a95b280",
   "metadata": {},
   "outputs": [],
   "source": []
  },
  {
   "cell_type": "code",
   "execution_count": null,
   "id": "00ce55c7-6244-4c44-bd34-88c14b71feb7",
   "metadata": {},
   "outputs": [],
   "source": []
  },
  {
   "cell_type": "code",
   "execution_count": null,
   "id": "5af1567d-9bda-4a5d-b0d5-87cfde095bba",
   "metadata": {},
   "outputs": [],
   "source": []
  },
  {
   "cell_type": "code",
   "execution_count": null,
   "id": "cc8d39ef-74d1-4ae7-ae93-fb9bce4ab79b",
   "metadata": {},
   "outputs": [],
   "source": []
  },
  {
   "cell_type": "code",
   "execution_count": null,
   "id": "4c20d22f-f38c-4f00-9bc0-bddbd896413c",
   "metadata": {},
   "outputs": [],
   "source": []
  },
  {
   "cell_type": "code",
   "execution_count": null,
   "id": "c366b34e-e920-42e7-bbea-ab4fa7d8fa62",
   "metadata": {},
   "outputs": [],
   "source": []
  },
  {
   "cell_type": "code",
   "execution_count": null,
   "id": "ea6c9496-d68c-4d93-8297-0a6854b6c6dd",
   "metadata": {},
   "outputs": [],
   "source": []
  },
  {
   "cell_type": "code",
   "execution_count": null,
   "id": "1ed1f628-5a4a-479e-ae73-3b256ee65946",
   "metadata": {},
   "outputs": [],
   "source": []
  },
  {
   "cell_type": "code",
   "execution_count": null,
   "id": "769a8a47-1d3b-4d48-8fac-dce5e3ea1ac4",
   "metadata": {},
   "outputs": [],
   "source": []
  },
  {
   "cell_type": "code",
   "execution_count": null,
   "id": "734e2eb5-0074-4bf4-a725-340b094729eb",
   "metadata": {},
   "outputs": [],
   "source": []
  },
  {
   "cell_type": "code",
   "execution_count": null,
   "id": "13def8a5-b41a-4ca9-af59-085a2d4182a4",
   "metadata": {},
   "outputs": [],
   "source": []
  },
  {
   "cell_type": "code",
   "execution_count": null,
   "id": "0f0de68b-3754-42ff-94e3-21ac76682906",
   "metadata": {},
   "outputs": [],
   "source": []
  },
  {
   "cell_type": "code",
   "execution_count": null,
   "id": "98b0b7ec-c1cc-4ea5-b7cd-50b016f3d860",
   "metadata": {},
   "outputs": [],
   "source": []
  },
  {
   "cell_type": "code",
   "execution_count": null,
   "id": "8cb23edb-700e-4448-a4d4-0e43f7e4f7e9",
   "metadata": {},
   "outputs": [],
   "source": []
  },
  {
   "cell_type": "code",
   "execution_count": null,
   "id": "d7cbfaa4-4c21-4114-a8b1-6a3412cd76da",
   "metadata": {},
   "outputs": [],
   "source": []
  },
  {
   "cell_type": "code",
   "execution_count": null,
   "id": "09071c4b-ff54-46d1-807c-b3acbb4cb2a3",
   "metadata": {},
   "outputs": [],
   "source": []
  },
  {
   "cell_type": "code",
   "execution_count": null,
   "id": "515c0924-9c5d-460a-98f4-8bb402def5ef",
   "metadata": {},
   "outputs": [],
   "source": []
  },
  {
   "cell_type": "code",
   "execution_count": null,
   "id": "48a04b21-19c6-47f6-a63e-e6393406fa98",
   "metadata": {},
   "outputs": [],
   "source": []
  },
  {
   "cell_type": "code",
   "execution_count": null,
   "id": "0ad17b30-785e-4806-9304-60dd46dcd32c",
   "metadata": {},
   "outputs": [],
   "source": []
  },
  {
   "cell_type": "code",
   "execution_count": null,
   "id": "e5411e4c-3d3f-4097-925a-bf42f718f0c1",
   "metadata": {},
   "outputs": [],
   "source": []
  },
  {
   "cell_type": "code",
   "execution_count": null,
   "id": "a005a1f7-9554-46a3-9232-8577ca7f4505",
   "metadata": {},
   "outputs": [],
   "source": []
  },
  {
   "cell_type": "code",
   "execution_count": null,
   "id": "6966b8a6-6f5e-4e78-ae8f-dc5efb096132",
   "metadata": {},
   "outputs": [],
   "source": []
  },
  {
   "cell_type": "code",
   "execution_count": null,
   "id": "975ba97f-bb01-480a-a513-cf97c1da586d",
   "metadata": {},
   "outputs": [],
   "source": []
  },
  {
   "cell_type": "code",
   "execution_count": null,
   "id": "5caf5678-a51f-4db8-b5ab-9a24b766994f",
   "metadata": {},
   "outputs": [],
   "source": []
  },
  {
   "cell_type": "code",
   "execution_count": null,
   "id": "170325fb-dfb0-486d-af98-1010ea0bad6e",
   "metadata": {},
   "outputs": [],
   "source": []
  },
  {
   "cell_type": "code",
   "execution_count": null,
   "id": "89cdc4cc-dbaa-4038-a8c6-7e39885a14ef",
   "metadata": {},
   "outputs": [],
   "source": []
  },
  {
   "cell_type": "code",
   "execution_count": null,
   "id": "794258cc-684f-47dc-a252-29c5bce49a1b",
   "metadata": {},
   "outputs": [],
   "source": []
  },
  {
   "cell_type": "code",
   "execution_count": null,
   "id": "e10298f4-6c73-40fe-bc1b-094d1bd82b1f",
   "metadata": {},
   "outputs": [],
   "source": []
  },
  {
   "cell_type": "code",
   "execution_count": null,
   "id": "84632d9d-4834-4563-9ab7-990ce2618577",
   "metadata": {},
   "outputs": [],
   "source": []
  },
  {
   "cell_type": "code",
   "execution_count": null,
   "id": "611ff279-f86c-4d8c-8ad9-394422740f23",
   "metadata": {},
   "outputs": [],
   "source": []
  },
  {
   "cell_type": "code",
   "execution_count": null,
   "id": "37fc9701-8dcf-4ab6-ae56-f3e7a0a5490c",
   "metadata": {},
   "outputs": [],
   "source": []
  },
  {
   "cell_type": "code",
   "execution_count": null,
   "id": "1588a999-b7f0-4882-91e9-2f50c82d439e",
   "metadata": {},
   "outputs": [],
   "source": []
  }
 ],
 "metadata": {
  "kernelspec": {
   "display_name": "Python 3 (ipykernel)",
   "language": "python",
   "name": "python3"
  },
  "language_info": {
   "codemirror_mode": {
    "name": "ipython",
    "version": 3
   },
   "file_extension": ".py",
   "mimetype": "text/x-python",
   "name": "python",
   "nbconvert_exporter": "python",
   "pygments_lexer": "ipython3",
   "version": "3.12.7"
  }
 },
 "nbformat": 4,
 "nbformat_minor": 5
}
